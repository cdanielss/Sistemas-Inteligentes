{
 "cells": [
  {
   "cell_type": "markdown",
   "metadata": {},
   "source": [
    "# Aquisição e análise exploratória dos dados de COVID do brasil.io para o estado do Piauí\n",
    "### Através  do dataset casos_covid19.csv foram capturados os nomes das 224 cidades do Piauí. No entanto, esses nomes também poderiam ser tirados do site do IBGE. Você poderá adquirir o dataset antigo para teste do script através do link no drive disponibilizado no pdf da aula. É importante que dados mais atualizados sejam capturados no site: https://brasil.io/home/. Após capturar o nome da cidade, usaremos o openstreetmap para capturar latitude e logitude, auxiliando no ponto 5 da atividade;"
   ]
  },
  {
   "cell_type": "markdown",
   "metadata": {},
   "source": [
    "## Importandos as bibliotecas"
   ]
  },
  {
   "cell_type": "code",
   "execution_count": 1,
   "metadata": {
    "id": "LSKKT22yMKhU"
   },
   "outputs": [],
   "source": [
    "import pandas as pd\n",
    "import requests\n",
    "import matplotlib.pyplot as plt "
   ]
  },
  {
   "cell_type": "markdown",
   "metadata": {},
   "source": [
    "## Aquisição dos dados"
   ]
  },
  {
   "cell_type": "code",
   "execution_count": 2,
   "metadata": {
    "colab": {
     "base_uri": "https://localhost:8080/",
     "height": 374
    },
    "id": "ZrkriaCXMYug",
    "outputId": "5bc8c4f4-614f-404b-a8b1-d29d623a21bc"
   },
   "outputs": [],
   "source": [
    "data = pd.read_csv('casos_covid19.csv')"
   ]
  },
  {
   "cell_type": "code",
   "execution_count": 3,
   "metadata": {
    "colab": {
     "base_uri": "https://localhost:8080/",
     "height": 309
    },
    "id": "bq6yq3IfMnWF",
    "outputId": "3bae9811-0af2-417c-ac71-c84bf36b366f"
   },
   "outputs": [
    {
     "data": {
      "text/html": [
       "<div>\n",
       "<style scoped>\n",
       "    .dataframe tbody tr th:only-of-type {\n",
       "        vertical-align: middle;\n",
       "    }\n",
       "\n",
       "    .dataframe tbody tr th {\n",
       "        vertical-align: top;\n",
       "    }\n",
       "\n",
       "    .dataframe thead th {\n",
       "        text-align: right;\n",
       "    }\n",
       "</style>\n",
       "<table border=\"1\" class=\"dataframe\">\n",
       "  <thead>\n",
       "    <tr style=\"text-align: right;\">\n",
       "      <th></th>\n",
       "      <th>date</th>\n",
       "      <th>state</th>\n",
       "      <th>city</th>\n",
       "      <th>place_type</th>\n",
       "      <th>confirmed</th>\n",
       "      <th>deaths</th>\n",
       "      <th>order_for_place</th>\n",
       "      <th>is_last</th>\n",
       "      <th>estimated_population_2019</th>\n",
       "      <th>estimated_population</th>\n",
       "      <th>city_ibge_code</th>\n",
       "      <th>confirmed_per_100k_inhabitants</th>\n",
       "      <th>death_rate</th>\n",
       "    </tr>\n",
       "  </thead>\n",
       "  <tbody>\n",
       "    <tr>\n",
       "      <th>0</th>\n",
       "      <td>2021-03-22</td>\n",
       "      <td>AP</td>\n",
       "      <td>NaN</td>\n",
       "      <td>state</td>\n",
       "      <td>92462</td>\n",
       "      <td>1233</td>\n",
       "      <td>364</td>\n",
       "      <td>True</td>\n",
       "      <td>845731.0</td>\n",
       "      <td>861773.0</td>\n",
       "      <td>16.0</td>\n",
       "      <td>10729.27557</td>\n",
       "      <td>0.0133</td>\n",
       "    </tr>\n",
       "    <tr>\n",
       "      <th>1</th>\n",
       "      <td>2021-03-21</td>\n",
       "      <td>AP</td>\n",
       "      <td>NaN</td>\n",
       "      <td>state</td>\n",
       "      <td>92010</td>\n",
       "      <td>1222</td>\n",
       "      <td>363</td>\n",
       "      <td>False</td>\n",
       "      <td>845731.0</td>\n",
       "      <td>861773.0</td>\n",
       "      <td>16.0</td>\n",
       "      <td>10676.82557</td>\n",
       "      <td>0.0133</td>\n",
       "    </tr>\n",
       "    <tr>\n",
       "      <th>2</th>\n",
       "      <td>2021-03-20</td>\n",
       "      <td>AP</td>\n",
       "      <td>NaN</td>\n",
       "      <td>state</td>\n",
       "      <td>91515</td>\n",
       "      <td>1222</td>\n",
       "      <td>362</td>\n",
       "      <td>False</td>\n",
       "      <td>845731.0</td>\n",
       "      <td>861773.0</td>\n",
       "      <td>16.0</td>\n",
       "      <td>10619.38585</td>\n",
       "      <td>0.0134</td>\n",
       "    </tr>\n",
       "    <tr>\n",
       "      <th>3</th>\n",
       "      <td>2021-03-19</td>\n",
       "      <td>AP</td>\n",
       "      <td>NaN</td>\n",
       "      <td>state</td>\n",
       "      <td>91077</td>\n",
       "      <td>1216</td>\n",
       "      <td>361</td>\n",
       "      <td>False</td>\n",
       "      <td>845731.0</td>\n",
       "      <td>861773.0</td>\n",
       "      <td>16.0</td>\n",
       "      <td>10568.56040</td>\n",
       "      <td>0.0134</td>\n",
       "    </tr>\n",
       "    <tr>\n",
       "      <th>4</th>\n",
       "      <td>2021-03-18</td>\n",
       "      <td>AP</td>\n",
       "      <td>NaN</td>\n",
       "      <td>state</td>\n",
       "      <td>90597</td>\n",
       "      <td>1206</td>\n",
       "      <td>360</td>\n",
       "      <td>False</td>\n",
       "      <td>845731.0</td>\n",
       "      <td>861773.0</td>\n",
       "      <td>16.0</td>\n",
       "      <td>10512.86128</td>\n",
       "      <td>0.0133</td>\n",
       "    </tr>\n",
       "  </tbody>\n",
       "</table>\n",
       "</div>"
      ],
      "text/plain": [
       "         date state city place_type  confirmed  deaths  order_for_place  \\\n",
       "0  2021-03-22    AP  NaN      state      92462    1233              364   \n",
       "1  2021-03-21    AP  NaN      state      92010    1222              363   \n",
       "2  2021-03-20    AP  NaN      state      91515    1222              362   \n",
       "3  2021-03-19    AP  NaN      state      91077    1216              361   \n",
       "4  2021-03-18    AP  NaN      state      90597    1206              360   \n",
       "\n",
       "   is_last  estimated_population_2019  estimated_population  city_ibge_code  \\\n",
       "0     True                   845731.0              861773.0            16.0   \n",
       "1    False                   845731.0              861773.0            16.0   \n",
       "2    False                   845731.0              861773.0            16.0   \n",
       "3    False                   845731.0              861773.0            16.0   \n",
       "4    False                   845731.0              861773.0            16.0   \n",
       "\n",
       "   confirmed_per_100k_inhabitants  death_rate  \n",
       "0                     10729.27557      0.0133  \n",
       "1                     10676.82557      0.0133  \n",
       "2                     10619.38585      0.0134  \n",
       "3                     10568.56040      0.0134  \n",
       "4                     10512.86128      0.0133  "
      ]
     },
     "execution_count": 3,
     "metadata": {},
     "output_type": "execute_result"
    }
   ],
   "source": [
    "data.head()"
   ]
  },
  {
   "cell_type": "code",
   "execution_count": 4,
   "metadata": {
    "colab": {
     "base_uri": "https://localhost:8080/"
    },
    "id": "N9PymdRuNd8F",
    "outputId": "96ab1f8f-0094-4caa-a655-38d4d9644de6"
   },
   "outputs": [
    {
     "data": {
      "text/plain": [
       "(1048575, 13)"
      ]
     },
     "execution_count": 4,
     "metadata": {},
     "output_type": "execute_result"
    }
   ],
   "source": [
    "data.shape"
   ]
  },
  {
   "cell_type": "code",
   "execution_count": 5,
   "metadata": {
    "colab": {
     "base_uri": "https://localhost:8080/",
     "height": 549
    },
    "id": "NLIPoPFIOzV_",
    "outputId": "7b012afd-8ddf-4e30-9423-308d608bbdfd"
   },
   "outputs": [],
   "source": [
    "data_piaui = data[data['state'] == 'PI']"
   ]
  },
  {
   "cell_type": "code",
   "execution_count": 6,
   "metadata": {},
   "outputs": [
    {
     "name": "stdout",
     "output_type": "stream",
     "text": [
      "<class 'pandas.core.frame.DataFrame'>\n",
      "Int64Index: 68989 entries, 574992 to 643980\n",
      "Data columns (total 13 columns):\n",
      " #   Column                          Non-Null Count  Dtype  \n",
      "---  ------                          --------------  -----  \n",
      " 0   date                            68989 non-null  object \n",
      " 1   state                           68989 non-null  object \n",
      " 2   city                            68620 non-null  object \n",
      " 3   place_type                      68989 non-null  object \n",
      " 4   confirmed                       68989 non-null  int64  \n",
      " 5   deaths                          68989 non-null  int64  \n",
      " 6   order_for_place                 68989 non-null  int64  \n",
      " 7   is_last                         68989 non-null  bool   \n",
      " 8   estimated_population_2019       68989 non-null  float64\n",
      " 9   estimated_population            68989 non-null  float64\n",
      " 10  city_ibge_code                  68989 non-null  float64\n",
      " 11  confirmed_per_100k_inhabitants  68770 non-null  float64\n",
      " 12  death_rate                      68989 non-null  float64\n",
      "dtypes: bool(1), float64(5), int64(3), object(4)\n",
      "memory usage: 6.9+ MB\n"
     ]
    }
   ],
   "source": [
    "data_piaui.info()"
   ]
  },
  {
   "cell_type": "code",
   "execution_count": 7,
   "metadata": {
    "id": "LF2feKYZkOzY"
   },
   "outputs": [],
   "source": [
    "cidades = data_piaui[data_piaui['place_type'] == 'city']"
   ]
  },
  {
   "cell_type": "code",
   "execution_count": 8,
   "metadata": {
    "id": "XWHMSC3ojlcH"
   },
   "outputs": [],
   "source": [
    "list_cities = cidades['city'].unique()"
   ]
  },
  {
   "cell_type": "code",
   "execution_count": 9,
   "metadata": {},
   "outputs": [
    {
     "data": {
      "text/plain": [
       "array(['Acauã', 'Agricolândia', 'Alagoinha do Piauí', 'Alegrete do Piauí',\n",
       "       'Alto Longá', 'Altos', 'Alvorada do Gurguéia', 'Amarante',\n",
       "       'Angical do Piauí', 'Antônio Almeida', 'Anísio de Abreu',\n",
       "       'Aroazes', 'Aroeiras do Itaim', 'Arraial', 'Assunção do Piauí',\n",
       "       'Avelino Lopes', 'Baixa Grande do Ribeiro', \"Barra D'Alcântara\",\n",
       "       'Barras', 'Barreiras do Piauí', 'Barro Duro', 'Batalha',\n",
       "       'Bela Vista do Piauí', 'Belém do Piauí', 'Beneditinos',\n",
       "       'Bertolínia', 'Betânia do Piauí', 'Boa Hora', 'Bocaina',\n",
       "       'Bom Jesus', 'Bom Princípio do Piauí', 'Bonfim do Piauí',\n",
       "       'Boqueirão do Piauí', 'Brasileira', 'Brejo do Piauí',\n",
       "       'Buriti dos Lopes', 'Buriti dos Montes', 'Cabeceiras do Piauí',\n",
       "       'Cajazeiras do Piauí', 'Cajueiro da Praia',\n",
       "       'Caldeirão Grande do Piauí', 'Campinas do Piauí',\n",
       "       'Campo Alegre do Fidalgo', 'Campo Grande do Piauí',\n",
       "       'Campo Largo do Piauí', 'Campo Maior', 'Canavieira',\n",
       "       'Canto do Buriti', 'Capitão Gervásio Oliveira',\n",
       "       'Capitão de Campos', 'Caracol', 'Caraúbas do Piauí',\n",
       "       'Caridade do Piauí', 'Castelo do Piauí', 'Caxingó', 'Cocal',\n",
       "       'Cocal de Telha', 'Cocal dos Alves', 'Coivaras',\n",
       "       'Colônia do Gurguéia', 'Colônia do Piauí', 'Conceição do Canindé',\n",
       "       'Coronel José Dias', 'Corrente', 'Cristalândia do Piauí',\n",
       "       'Cristino Castro', 'Curimatá', 'Currais', 'Curral Novo do Piauí',\n",
       "       'Curralinhos', 'Demerval Lobão', 'Dirceu Arcoverde',\n",
       "       'Dom Expedito Lopes', 'Dom Inocêncio', 'Domingos Mourão',\n",
       "       'Elesbão Veloso', 'Eliseu Martins', 'Esperantina',\n",
       "       'Fartura do Piauí', 'Flores do Piauí', 'Floresta do Piauí',\n",
       "       'Floriano', 'Francinópolis', 'Francisco Ayres', 'Francisco Macedo',\n",
       "       'Francisco Santos', 'Fronteiras', 'Geminiano', 'Gilbués',\n",
       "       'Guadalupe', 'Guaribas', 'Hugo Napoleão', 'Ilha Grande', 'Inhuma',\n",
       "       'Ipiranga do Piauí', 'Isaías Coelho', 'Itainópolis', 'Itaueira',\n",
       "       'Jacobina do Piauí', 'Jaicós', 'Jardim do Mulato',\n",
       "       'Jatobá do Piauí', 'Jerumenha', 'Joaquim Pires', 'Joca Marques',\n",
       "       'José de Freitas', 'João Costa', 'Juazeiro do Piauí', 'Jurema',\n",
       "       'Júlio Borges', 'Lagoa Alegre', 'Lagoa de São Francisco',\n",
       "       'Lagoa do Barro do Piauí', 'Lagoa do Piauí', 'Lagoa do Sítio',\n",
       "       'Lagoinha do Piauí', 'Landri Sales', 'Luzilândia', 'Luís Correia',\n",
       "       'Madeiro', 'Manoel Emídio', 'Marcolândia', 'Marcos Parente',\n",
       "       'Massapê do Piauí', 'Matias Olímpio', 'Miguel Alves',\n",
       "       'Miguel Leão', 'Milton Brandão', 'Monsenhor Gil',\n",
       "       'Monsenhor Hipólito', 'Monte Alegre do Piauí',\n",
       "       'Morro Cabeça no Tempo', 'Morro do Chapéu do Piauí',\n",
       "       'Murici dos Portelas', 'Nazaré do Piauí', 'Nazária',\n",
       "       'Nossa Senhora de Nazaré', 'Nossa Senhora dos Remédios',\n",
       "       'Nova Santa Rita', 'Novo Oriente do Piauí', 'Novo Santo Antônio',\n",
       "       'Oeiras', \"Olho D'Água do Piauí\", 'Padre Marcos', 'Paes Landim',\n",
       "       'Pajeú do Piauí', 'Palmeira do Piauí', 'Palmeirais', 'Paquetá',\n",
       "       'Parnaguá', 'Parnaíba', 'Passagem Franca do Piauí',\n",
       "       'Patos do Piauí', \"Pau D'Arco do Piauí\", 'Paulistana', 'Pavussu',\n",
       "       'Pedro II', 'Pedro Laurentino', 'Picos', 'Pimenteiras', 'Pio IX',\n",
       "       'Piracuruca', 'Piripiri', 'Porto', 'Porto Alegre do Piauí',\n",
       "       'Prata do Piauí', 'Queimada Nova', 'Redenção do Gurguéia',\n",
       "       'Regeneração', 'Riacho Frio', 'Ribeira do Piauí',\n",
       "       'Ribeiro Gonçalves', 'Rio Grande do Piauí', 'Santa Cruz do Piauí',\n",
       "       'Santa Cruz dos Milagres', 'Santa Filomena', 'Santa Luz',\n",
       "       'Santa Rosa do Piauí', 'Santana do Piauí',\n",
       "       'Santo Antônio de Lisboa', 'Santo Antônio dos Milagres',\n",
       "       'Santo Inácio do Piauí', 'Sebastião Barros', 'Sebastião Leal',\n",
       "       'Sigefredo Pacheco', 'Simplício Mendes', 'Simões',\n",
       "       'Socorro do Piauí', 'Sussuapara', 'São Braz do Piauí',\n",
       "       'São Francisco de Assis do Piauí', 'São Francisco do Piauí',\n",
       "       'São Félix do Piauí', 'São Gonçalo do Gurguéia',\n",
       "       'São Gonçalo do Piauí', 'São José do Divino', 'São José do Peixe',\n",
       "       'São José do Piauí', 'São João da Canabrava',\n",
       "       'São João da Fronteira', 'São João da Serra',\n",
       "       'São João da Varjota', 'São João do Arraial', 'São João do Piauí',\n",
       "       'São Julião', 'São Lourenço do Piauí', 'São Luis do Piauí',\n",
       "       'São Miguel da Baixa Grande', 'São Miguel do Fidalgo',\n",
       "       'São Miguel do Tapuio', 'São Pedro do Piauí',\n",
       "       'São Raimundo Nonato', 'Tamboril do Piauí', 'Tanque do Piauí',\n",
       "       'Teresina', 'União', 'Uruçuí', 'Valença do Piauí', 'Vera Mendes',\n",
       "       'Vila Nova do Piauí', 'Várzea Branca', 'Várzea Grande',\n",
       "       'Wall Ferraz', 'Água Branca'], dtype=object)"
      ]
     },
     "execution_count": 9,
     "metadata": {},
     "output_type": "execute_result"
    }
   ],
   "source": [
    "list_cities"
   ]
  },
  {
   "cell_type": "code",
   "execution_count": 10,
   "metadata": {},
   "outputs": [
    {
     "data": {
      "text/plain": [
       "224"
      ]
     },
     "execution_count": 10,
     "metadata": {},
     "output_type": "execute_result"
    }
   ],
   "source": [
    "len(list_cities)"
   ]
  },
  {
   "cell_type": "markdown",
   "metadata": {},
   "source": [
    "## Capturando as latitudes e longitudes com openstreetmaps"
   ]
  },
  {
   "cell_type": "code",
   "execution_count": 11,
   "metadata": {},
   "outputs": [],
   "source": [
    "#pode demorar um pouco\n",
    "latitudes = []\n",
    "longitudes = []\n",
    "for city in list_cities:\n",
    "    request = 'https://nominatim.openstreetmap.org/search?city='+city+'&state=Piaui&format=json'\n",
    "    response = requests.get(request)\n",
    "    response_data = response.json()[0]\n",
    "    \n",
    "    latitude = float(response_data[\"lat\"])\n",
    "    longitude = float(response_data[\"lon\"])\n",
    "    latitudes.append(latitude)\n",
    "    longitudes.append(longitude)"
   ]
  },
  {
   "cell_type": "code",
   "execution_count": 12,
   "metadata": {},
   "outputs": [
    {
     "data": {
      "text/plain": [
       "224"
      ]
     },
     "execution_count": 12,
     "metadata": {},
     "output_type": "execute_result"
    }
   ],
   "source": [
    "len(latitudes)"
   ]
  },
  {
   "cell_type": "code",
   "execution_count": 13,
   "metadata": {},
   "outputs": [
    {
     "data": {
      "text/plain": [
       "224"
      ]
     },
     "execution_count": 13,
     "metadata": {},
     "output_type": "execute_result"
    }
   ],
   "source": [
    "len(longitudes)"
   ]
  },
  {
   "cell_type": "markdown",
   "metadata": {},
   "source": [
    "### Atividade (1.5 pt): Visualização de casos de COVID-19 no Piauí (equipe 3 integrantes)\n",
    "\n",
    "<dl>\n",
    "<dt>Apresentar um jupyter notebook atendendo os seguintes itens: </dt>\n",
    "    <dd>1. Filtrar os dados para selecionar apenas aqueles referentes ao estado do Piauí. Se uma cidade possui mais de 1 amostra, selecionar aquela mais recente (nota: as datas estão em ordem decrescente);</dd>\n",
    "    <dd>2. Plotar um mapa com a localização e número de casos;</dd>\n",
    "    <dd>3. Indicar o número de amostras, atributos e dados faltantes (se existir) do conjunto de dados;</dd>\n",
    "    <dd>4. Apresentar as estatísticas descritivas dos atributos não categóricos;</dd>\n",
    "    <dd>5. Apresentar os histogramas dos atributos não categóricos;</dd>\n",
    "    <dd>6. Capturar as latitudes e longitudes para cada 1 dos municípios presentes na base de dados e adicionar as colunas latitude e longitude nos dados;</dd>\n",
    "    <dd>7. Apresentar um gráfico da latitude x longitude, onde cada amostra será representada por um círculo e quanto maior o valor do campo estimated_population, maior o raio do círculo que representa aquela amostra. Já a cor representa a taxa de mortalidade (death_rate), quão maior esse índice, mais próximo do vermelho;</dd>\n",
    "    <dd>8. Calcular a matriz de correlação;</dd>\n",
    "    <dd>9. Verificar a correlação entre o atributo death_rate e os demais atributos não categóricos;</dd>\n",
    "</dl>"
   ]
  },
  {
   "cell_type": "markdown",
   "metadata": {},
   "source": [
    "## Referências para os gráficos"
   ]
  },
  {
   "cell_type": "markdown",
   "metadata": {},
   "source": [
    "### Ponto #2"
   ]
  },
  {
   "cell_type": "markdown",
   "metadata": {},
   "source": [
    "![title](./image1.png)"
   ]
  },
  {
   "cell_type": "markdown",
   "metadata": {},
   "source": [
    "![title](./image2.png)"
   ]
  },
  {
   "cell_type": "markdown",
   "metadata": {},
   "source": [
    "![title](./image3.png)"
   ]
  },
  {
   "cell_type": "markdown",
   "metadata": {},
   "source": [
    "### Ponto #7"
   ]
  },
  {
   "cell_type": "markdown",
   "metadata": {},
   "source": [
    "![title](./image4.png)"
   ]
  },
  {
   "cell_type": "code",
   "execution_count": null,
   "metadata": {},
   "outputs": [],
   "source": []
  }
 ],
 "metadata": {
  "colab": {
   "name": "dados_covid_lat_lng.ipynb",
   "provenance": []
  },
  "kernelspec": {
   "display_name": "Python 3",
   "language": "python",
   "name": "python3"
  },
  "language_info": {
   "codemirror_mode": {
    "name": "ipython",
    "version": 3
   },
   "file_extension": ".py",
   "mimetype": "text/x-python",
   "name": "python",
   "nbconvert_exporter": "python",
   "pygments_lexer": "ipython3",
   "version": "3.8.3"
  }
 },
 "nbformat": 4,
 "nbformat_minor": 4
}
